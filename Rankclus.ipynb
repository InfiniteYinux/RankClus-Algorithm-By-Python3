{
 "cells": [
  {
   "cell_type": "code",
   "execution_count": 1,
   "metadata": {},
   "outputs": [],
   "source": [
    "import random\n",
    "\n",
    "from collections import defaultdict"
   ]
  },
  {
   "cell_type": "markdown",
   "metadata": {},
   "source": [
    "# 读入data文件，构建网络(作者-会议、会议-作者、作者-作者)"
   ]
  },
  {
   "cell_type": "code",
   "execution_count": 2,
   "metadata": {},
   "outputs": [],
   "source": [
    "def BuildNet(filename):\n",
    "    con_num, aut_num = 0, 0\n",
    "    con_dict = {}\n",
    "    aut_dict = {}\n",
    "\n",
    "    with open(filename, 'r', encoding='utf-8') as f:\n",
    "        lines = f.readlines()\n",
    "\n",
    "    '''\n",
    "    统计所有会议的信息以及所有作者的信息。\n",
    "    '''\n",
    "    for line in lines:\n",
    "        line = line.strip()\n",
    "        conference = line.split('$')[0]    # 会议信息\n",
    "        authors = line.split('$')[1].split(';')[:-1]    # 作者(可能大于1)\n",
    "        \n",
    "        if conference not in con_dict:\n",
    "            con_num += 1\n",
    "            con_dict[conference] = con_num\n",
    "        for aut in authors:\n",
    "            if aut not in aut_dict:\n",
    "                aut_num += 1\n",
    "                aut_dict[aut] = aut_num\n",
    "    '''\n",
    "    构建三种字典\n",
    "    '''\n",
    "    C_A, A_C, A_A = {}, {}, {}\n",
    "    for key, value in con_dict.items():\n",
    "        C_A[key] = defaultdict(int)    # 作者-会议字典\n",
    "    for key, value in aut_dict.items():\n",
    "        A_A[key] = defaultdict(int)\n",
    "        A_C[key] = defaultdict(int)\n",
    "        \n",
    "    for line in lines:\n",
    "        line = line.strip()\n",
    "        conference = line.split('$')[0]    # 会议信息\n",
    "        authors = line.split('$')[1].split(';')[:-1]    # 作者(可能大于1)\n",
    "        \n",
    "        for aut in authors:\n",
    "            C_A[conference][aut] += 1\n",
    "            A_C[aut][conference] += 1\n",
    "            for aut2 in authors:\n",
    "                if aut != aut2:\n",
    "                    A_A[aut][aut2] += 1\n",
    "                    A_A[aut2][aut] += 1\n",
    "    \n",
    "    return C_A, A_C, A_A\n",
    "\n",
    "        \n",
    "# 获取几种网络\n",
    "CAnet, ACnet, AAnet = BuildNet('data/data.txt')"
   ]
  },
  {
   "cell_type": "markdown",
   "metadata": {},
   "source": [
    "# Step 0: Initialization"
   ]
  },
  {
   "cell_type": "code",
   "execution_count": 22,
   "metadata": {},
   "outputs": [],
   "source": [
    "K = 15    # 类别数目\n",
    "alpha = 0.95\n",
    "delta = 0.000001    # 判断是否收敛\n",
    "iter_num = 20    # 迭代次数"
   ]
  },
  {
   "cell_type": "code",
   "execution_count": 4,
   "metadata": {},
   "outputs": [],
   "source": [
    "'''\n",
    "将会议初始化成K个类\n",
    "'''\n",
    "def init_cluster():\n",
    "    cluster = [[] for i in range(K)]    # 每个类一个列表\n",
    "    for k in CAnet.keys():\n",
    "        randnum = random.randint(0, K-1)\n",
    "        cluster[randnum].append(k)\n",
    "    return cluster\n",
    "\n",
    "Cluster = init_cluster()"
   ]
  },
  {
   "cell_type": "markdown",
   "metadata": {},
   "source": [
    "# Step 1: Ranking for each cluster"
   ]
  },
  {
   "cell_type": "code",
   "execution_count": 92,
   "metadata": {},
   "outputs": [],
   "source": [
    "'''\n",
    "实现 Simple Ranking\n",
    "'''\n",
    "def SimpleRanking(confer_author, author_confer, cluster):\n",
    "    print(\"Ranking...\")\n",
    "    rank_confer, rank_author, rank_allconfer = defaultdict(int), defaultdict(int), defaultdict(int)\n",
    "    # 统计会议和作者的排名\n",
    "    con_totsum = 0\n",
    "    aut_totsum = 0\n",
    "    for con, value in confer_author.items():\n",
    "        if con in cluster:    # 只计算这个类里的会议\n",
    "            rank_confer[con] = 0\n",
    "            for key, value in confer_author[con].items():    # 所有指向这个会议的作者求和\n",
    "                rank_confer[con] += value\n",
    "                con_totsum += value\n",
    "                \n",
    "                rank_author[key] += value    # 作者在这个会议发表的论文数量\n",
    "                aut_totsum += value\n",
    "    for key, value in rank_confer.items():    # 对排名得分归一化\n",
    "        rank_confer[key] /= con_totsum\n",
    "    for key, value in rank_author.items():    # 对排名得分归一化\n",
    "        rank_author[key] /= aut_totsum\n",
    "    \n",
    "    # 最后计算这个类别条件下，所有会议的rank。将会议排名再乘上作者排名————是否要归一化？经过输出发现，第一轮的时候貌似不同类别总和差的不是很大\n",
    "    golbal_sum = 0\n",
    "    for confer, value in confer_author.items():\n",
    "        for author,value in confer_author[confer].items():\n",
    "            rank_allconfer[confer] += value * rank_author[author]\n",
    "            golbal_sum +=  value * rank_author[author]\n",
    "    for confer,value in rank_allconfer.items():\n",
    "        rank_allconfer[confer] /= golbal_sum\n",
    "        \n",
    "    return rank_confer, rank_author, rank_allconfer\n",
    "\n",
    "'''\n",
    "实现 Authority Ranking\n",
    "'''\n",
    "def AuthorityRanking(confer_author, author_confer, author_author, cluster, alpha):\n",
    "    print(\"Ranking...\")\n",
    "    rank_confer, rank_author, rank_allconfer = defaultdict(int), defaultdict(int), defaultdict(int)\n",
    "    \n",
    "    # 记录类别中论文的数量以及所有作者的数量\n",
    "    tot_confer = len(cluster)\n",
    "    tot_author = len(author_confer)\n",
    "    # 对会议、作者排名进行初始化\n",
    "    for confer in cluster:\n",
    "        rank_confer[confer] = 1.0 / tot_confer\n",
    "    for author,value in author_confer.items():\n",
    "        rank_author[author] = 1.0 / tot_author\n",
    "    \n",
    "    # 循环更新 conference 和 author 的rank值\n",
    "    iternum = 0    # 迭代次数\n",
    "    \n",
    "    while iternum < 5:\n",
    "        iternum += 1    # 迭代次数\n",
    "        print(\"iter num: {}\".format(iternum))\n",
    "        \n",
    "        # --------先计算rank_confer--------\n",
    "        confer_sum = 0\n",
    "        for confer in cluster:\n",
    "            rankc = 0\n",
    "            for author in confer_author[confer]:\n",
    "                rankc += confer_author[confer][author] * rank_author[author]\n",
    "            rank_confer[confer] = rankc\n",
    "            confer_sum += rankc\n",
    "        \n",
    "        # confer排名归一化\n",
    "        for confer in rank_confer:\n",
    "            rank_confer[confer] /= confer_sum\n",
    "\n",
    "        # --------计算author_rank--------\n",
    "        save_rankc = rank_author.copy()    # 上一轮迭代的作者排名\n",
    "        author_sum = 0\n",
    "        \n",
    "        for author in rank_author:\n",
    "            acsum = 0    # 作者与会议之间的影响\n",
    "            for confer in author_confer[author]:\n",
    "                acsum += author_confer[author][confer] * rank_confer[confer]\n",
    "            aasum = 0    # 作者之间相互影响\n",
    "            for a2 in author_author[author]:\n",
    "                aasum += author_author[author][a2] * save_rankc[a2]\n",
    "            rank_author[author] = alpha*acsum + (1-alpha)*aasum\n",
    "            author_sum += rank_author[author]\n",
    "        # author排名归一化\n",
    "        for author in rank_author:\n",
    "            rank_author[author] /= author_sum\n",
    "            \n",
    "\n",
    "        # 最后计算这个类别条件下，所有会议的rank。\n",
    "        golbal_sum = 0\n",
    "        for confer, value in confer_author.items():\n",
    "            for author,value in confer_author[confer].items():\n",
    "                rank_allconfer[confer] += value * rank_author[author]\n",
    "                golbal_sum +=  value * rank_author[author]\n",
    "        for confer,value in rank_allconfer.items():\n",
    "            rank_allconfer[confer] /= golbal_sum\n",
    "        \n",
    "        \n",
    "    \n",
    "    return rank_confer, rank_author, rank_allconfer"
   ]
  },
  {
   "cell_type": "code",
   "execution_count": 95,
   "metadata": {},
   "outputs": [
    {
     "name": "stdout",
     "output_type": "stream",
     "text": [
      "Ranking...\n",
      "iter num: 1\n",
      "iter num: 2\n",
      "iter num: 3\n",
      "iter num: 4\n",
      "iter num: 5\n"
     ]
    }
   ],
   "source": [
    "rc, ra, rcg = AuthorityRanking(CAnet, ACnet, AAnet, Cluster[0], alpha)"
   ]
  },
  {
   "cell_type": "markdown",
   "metadata": {},
   "source": [
    "# Step 2: Get new attributes for objects and cluster"
   ]
  },
  {
   "cell_type": "code",
   "execution_count": 73,
   "metadata": {},
   "outputs": [
    {
     "name": "stdout",
     "output_type": "stream",
     "text": [
      "aa\n",
      "bb\n",
      "cc\n",
      "{'aa': 1, 'bb': 2, 'cc': 3} {'aa': 1231313, 'bb': 2, 'cc': 3}\n"
     ]
    }
   ],
   "source": [
    "dicta = {'aa':1, 'bb':2, 'cc':3}\n",
    "for ele in dicta:\n",
    "    print(ele)\n",
    "dictb = dicta.copy()\n",
    "dictb['aa'] = 1231313\n",
    "print(dicta, dictb)"
   ]
  },
  {
   "cell_type": "markdown",
   "metadata": {},
   "source": [
    "# Step 3: Adjust each object"
   ]
  },
  {
   "cell_type": "code",
   "execution_count": null,
   "metadata": {},
   "outputs": [],
   "source": []
  }
 ],
 "metadata": {
  "kernelspec": {
   "display_name": "Python 3",
   "language": "python",
   "name": "python3"
  },
  "language_info": {
   "codemirror_mode": {
    "name": "ipython",
    "version": 3
   },
   "file_extension": ".py",
   "mimetype": "text/x-python",
   "name": "python",
   "nbconvert_exporter": "python",
   "pygments_lexer": "ipython3",
   "version": "3.6.5"
  }
 },
 "nbformat": 4,
 "nbformat_minor": 2
}

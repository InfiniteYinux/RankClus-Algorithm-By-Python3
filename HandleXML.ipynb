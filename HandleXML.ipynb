{
 "cells": [
  {
   "cell_type": "markdown",
   "metadata": {},
   "source": [
    "# 预处理XML文件中的分号、'&'符号问题"
   ]
  },
  {
   "cell_type": "code",
   "execution_count": 6,
   "metadata": {},
   "outputs": [],
   "source": [
    "# --*-- encoding: utf-8 --*--\n",
    "\n",
    "def DoReplace():\n",
    "    import re\n",
    "\n",
    "    dtd_words = []\n",
    "\n",
    "    with open('data/mydtd.txt', 'r', encoding='utf-8') as f:\n",
    "      lines = f.readlines()\n",
    "      for line in lines:\n",
    "        pattern = re.compile('<!ENTITY (.*)\".*>')\n",
    "        res = '&' + str(pattern.findall(line)[0]).split()[0].strip()\n",
    "        dtd_words.append(res)\n",
    "\n",
    "    with open('data/dblp.xml', 'r', encoding='utf-8') as f:\n",
    "        lines = f.readlines()\n",
    "\n",
    "    with open('data/dblp.xml', 'w', encoding='utf-8') as f:\n",
    "        for line in lines:\n",
    "            if '&' in line:\n",
    "                for rep_word in dtd_words:\n",
    "                    line = line.replace(rep_word, '')\n",
    "            f.write(line)\n",
    "# DoReplace()"
   ]
  },
  {
   "cell_type": "markdown",
   "metadata": {},
   "source": [
    "# 提取出XML文件中的信息(会议名、作者)"
   ]
  },
  {
   "cell_type": "code",
   "execution_count": 2,
   "metadata": {},
   "outputs": [
    {
     "ename": "KeyboardInterrupt",
     "evalue": "",
     "output_type": "error",
     "traceback": [
      "\u001b[0;31m---------------------------------------------------------------------------\u001b[0m",
      "\u001b[0;31mKeyboardInterrupt\u001b[0m                         Traceback (most recent call last)",
      "\u001b[0;32m<ipython-input-2-fc979cb108f0>\u001b[0m in \u001b[0;36m<module>\u001b[0;34m()\u001b[0m\n\u001b[1;32m      4\u001b[0m \u001b[0mnet_info\u001b[0m \u001b[0;34m=\u001b[0m \u001b[0;34m[\u001b[0m\u001b[0;34m]\u001b[0m    \u001b[0;31m# 会议信息，作者，年份\u001b[0m\u001b[0;34m\u001b[0m\u001b[0m\n\u001b[1;32m      5\u001b[0m \u001b[0;34m\u001b[0m\u001b[0m\n\u001b[0;32m----> 6\u001b[0;31m \u001b[0;32mfor\u001b[0m \u001b[0mevent\u001b[0m\u001b[0;34m,\u001b[0m \u001b[0melement\u001b[0m \u001b[0;32min\u001b[0m \u001b[0metree\u001b[0m\u001b[0;34m.\u001b[0m\u001b[0miterparse\u001b[0m\u001b[0;34m(\u001b[0m\u001b[0mxmlfile\u001b[0m\u001b[0;34m)\u001b[0m\u001b[0;34m:\u001b[0m\u001b[0;34m\u001b[0m\u001b[0m\n\u001b[0m\u001b[1;32m      7\u001b[0m     \u001b[0;32mif\u001b[0m \u001b[0melement\u001b[0m\u001b[0;34m.\u001b[0m\u001b[0mtag\u001b[0m \u001b[0;34m==\u001b[0m \u001b[0;34m'inproceedings'\u001b[0m\u001b[0;34m:\u001b[0m\u001b[0;31m#找到文章信息\u001b[0m\u001b[0;34m\u001b[0m\u001b[0m\n\u001b[1;32m      8\u001b[0m         \u001b[0minfo\u001b[0m \u001b[0;34m=\u001b[0m \u001b[0;34m{\u001b[0m\u001b[0;34m}\u001b[0m    \u001b[0;31m# 记录会议名称，作者列表，年份\u001b[0m\u001b[0;34m\u001b[0m\u001b[0m\n",
      "\u001b[0;31mKeyboardInterrupt\u001b[0m: "
     ]
    }
   ],
   "source": [
    "from lxml import etree\n",
    "\n",
    "xmlfile = \"data/dblp.xml\"\n",
    "net_info = []    # 会议信息，作者，年份\n",
    "\n",
    "for event, element in etree.iterparse(xmlfile):\n",
    "    if element.tag == 'inproceedings':#找到文章信息\n",
    "        info = {}    # 记录会议名称，作者列表，年份\n",
    "        try:\n",
    "            year = int(element.find('year').text)\n",
    "            if year>=1998 and year <= 2007:\n",
    "                info['council'] = element.find('booktitle').text\n",
    "                info['authors'] = [author.text for author in element.findall(\"author\")]    # 找到所有作者信息            \n",
    "                net_info.append(info)\n",
    "        except:  # 缺少信息，continue\n",
    "            continue"
   ]
  },
  {
   "cell_type": "code",
   "execution_count": 3,
   "metadata": {},
   "outputs": [],
   "source": [
    "net_info.sort(key=lambda ele:ele['council'])    # 按照会议名称排序"
   ]
  },
  {
   "cell_type": "code",
   "execution_count": 4,
   "metadata": {},
   "outputs": [
    {
     "name": "stdout",
     "output_type": "stream",
     "text": [
      "{'council': '10th Anniversary Colloquium of UNU/IIST', 'authors': ['Alexandre David', 'Gerd Behrmann', 'Kim Guldstrand Larsen', 'Wang Yi 0001']}\n"
     ]
    }
   ],
   "source": [
    "print(net_info[0])"
   ]
  },
  {
   "cell_type": "code",
   "execution_count": 5,
   "metadata": {},
   "outputs": [],
   "source": [
    "with open('data/data.txt', 'w', encoding='utf-8') as f:\n",
    "    for item in net_info:\n",
    "        f.write(str(item['council']) + '$')\n",
    "        for author in item['authors']:\n",
    "            f.write(str(author) + ';')\n",
    "        f.write('\\n')"
   ]
  },
  {
   "cell_type": "code",
   "execution_count": null,
   "metadata": {},
   "outputs": [],
   "source": []
  }
 ],
 "metadata": {
  "kernelspec": {
   "display_name": "Python 3",
   "language": "python",
   "name": "python3"
  },
  "language_info": {
   "codemirror_mode": {
    "name": "ipython",
    "version": 3
   },
   "file_extension": ".py",
   "mimetype": "text/x-python",
   "name": "python",
   "nbconvert_exporter": "python",
   "pygments_lexer": "ipython3",
   "version": "3.6.5"
  }
 },
 "nbformat": 4,
 "nbformat_minor": 2
}
